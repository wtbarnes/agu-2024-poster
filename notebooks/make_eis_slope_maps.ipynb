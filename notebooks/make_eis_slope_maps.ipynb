{
 "cells": [
  {
   "cell_type": "markdown",
   "id": "d14edff9-b491-4632-b3b1-d50917e53f93",
   "metadata": {},
   "source": [
    "# EIS DEM Slope Maps"
   ]
  },
  {
   "cell_type": "code",
   "execution_count": 1,
   "id": "9a889699-43cc-45bf-8751-14d694127648",
   "metadata": {},
   "outputs": [
    {
     "name": "stderr",
     "output_type": "stream",
     "text": [
      "/Users/wtbarnes/mambaforge/envs/agu-2024-poster/lib/python3.12/site-packages/tqdm/auto.py:21: TqdmWarning: IProgress not found. Please update jupyter and ipywidgets. See https://ipywidgets.readthedocs.io/en/stable/user_install.html\n",
      "  from .autonotebook import tqdm as notebook_tqdm\n"
     ]
    }
   ],
   "source": [
    "import pathlib\n",
    "\n",
    "import asdf\n",
    "import astropy.units as u\n",
    "import astropy.table\n",
    "\n",
    "from synthesizAR.analysis import make_slope_map\n",
    "from synthesizAR.instruments.util import read_cube_from_dataset"
   ]
  },
  {
   "cell_type": "code",
   "execution_count": 2,
   "id": "88efa979-b5c6-4ab3-bdad-fdfd68ba99f0",
   "metadata": {},
   "outputs": [],
   "source": [
    "data_dir = pathlib.Path('../../../talks/loops-workshop-2024-talk/data/')\n",
    "figure_dir = pathlib.Path('../src/figures/')"
   ]
  },
  {
   "cell_type": "code",
   "execution_count": 3,
   "id": "5cc6f722-e964-434b-b3e9-324f45bbc8f6",
   "metadata": {},
   "outputs": [],
   "source": [
    "slope_fitting_params = {\n",
    "    'temperature_bounds': (0.9*u.MK,3*u.MK),\n",
    "    'em_threshold': 1e24*u.cm**(-5),\n",
    "    'rsquared_tolerance': 0.5,\n",
    "    'max_upper_bound': 8*u.MK,\n",
    "    'mask_negative': True,\n",
    "}"
   ]
  },
  {
   "cell_type": "code",
   "execution_count": 4,
   "id": "73ee7545-b3d2-4da2-bd40-791fce41fa88",
   "metadata": {},
   "outputs": [],
   "source": [
    "ar_table = astropy.table.QTable.read(data_dir / 'tables' / 'mason_ars_region_1.asdf')"
   ]
  },
  {
   "cell_type": "code",
   "execution_count": 5,
   "id": "ce3ca8bf-b7bc-4b35-be57-79d491e6fa0a",
   "metadata": {},
   "outputs": [],
   "source": [
    "for i,row in enumerate(ar_table):\n",
    "    em_dir = data_dir / f'noaa_{row[\"NOAA AR\"]}' / 'diagnostics' / 'dem' \n",
    "    dem_res = read_cube_from_dataset(\n",
    "        em_dir / f'em_noaa{row[\"NOAA AR\"]}_eis.nc',\n",
    "        'temperature',\n",
    "        'phys.temperature',\n",
    "    )\n",
    "    slope_map = make_slope_map(dem_res, **slope_fitting_params)\n",
    "    with asdf.AsdfFile({'slope_map': slope_map}) as asdf_file:\n",
    "        asdf_file.write_to(em_dir / f'emslope_noaa{row[\"NOAA AR\"]}_eis.asdf')"
   ]
  },
  {
   "cell_type": "code",
   "execution_count": null,
   "id": "f2449ec5-de38-4ac9-8570-323647a4569b",
   "metadata": {},
   "outputs": [],
   "source": []
  }
 ],
 "metadata": {
  "kernelspec": {
   "display_name": "Python [conda env:agu-2024-poster]",
   "language": "python",
   "name": "conda-env-agu-2024-poster-py"
  },
  "language_info": {
   "codemirror_mode": {
    "name": "ipython",
    "version": 3
   },
   "file_extension": ".py",
   "mimetype": "text/x-python",
   "name": "python",
   "nbconvert_exporter": "python",
   "pygments_lexer": "ipython3",
   "version": "3.12.7"
  }
 },
 "nbformat": 4,
 "nbformat_minor": 5
}
